{
  "nbformat": 4,
  "nbformat_minor": 0,
  "metadata": {
    "colab": {
      "provenance": [],
      "collapsed_sections": [
        "E0jZ_jj0NvF4"
      ],
      "include_colab_link": true
    },
    "kernelspec": {
      "name": "python3",
      "display_name": "Python 3"
    },
    "language_info": {
      "name": "python"
    }
  },
  "cells": [
    {
      "cell_type": "markdown",
      "metadata": {
        "id": "view-in-github",
        "colab_type": "text"
      },
      "source": [
        "<a href=\"https://colab.research.google.com/github/lauracguevaraa-tech/Bici-_al-_trabajo-_2026/blob/main/GuevaraLaura_BecerraDavid_VaronJhojan.ipynb\" target=\"_parent\"><img src=\"https://colab.research.google.com/assets/colab-badge.svg\" alt=\"Open In Colab\"/></a>"
      ]
    },
    {
      "cell_type": "markdown",
      "source": [
        "![logo-ECCI.png](data:image/png;base64,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)\n",
        "# **SISTEMAS AVANZADOS DE PRODUCCIÓN CON PYTHON**\n",
        "\n",
        "# **Taller 2 (2h): Bici al trabajo 2026**\n",
        "\n",
        "La operadora de bicicletas públicas quiere lanzar el programa Bici al Trabajo 2026. La meta interna es garantizar al menos 4.500 viajes diarios en días laborales sin deteriorar la experiencia del usuario. Para decidir presupuesto (más estaciones, reubicación y personal), piden un análisis exploratorio riguroso con el histórico Capital Bikeshare 2011–2012 (day.csv).\n",
        "\n",
        "Tu misión es cuantificar cómo el clima y la estacionalidad afectan la demanda diaria (cnt), verificar supuestos estadísticos básicos y comprobar con evidencia si hoy, bajo condiciones típicas, la media diaria en días laborales alcanza (o no) el umbral de 4.500. Además, deberás comunicar una medida robusta del uso típico (mediana) para reportes públicos, donde la distribución puede ser asimétrica.\n",
        "\n",
        "\n"
      ],
      "metadata": {
        "id": "E0jZ_jj0NvF4"
      }
    },
    {
      "cell_type": "markdown",
      "source": [
        "# **Instrucciones:**\n",
        "\n",
        "### **Instrucciones para el Taller: \"Bici al Trabajo 2026\"**\n",
        "\n",
        "**Objetivo del Taller:** Analizar el conjunto de datos proporcionado para responder a las preguntas planteadas, utilizando Python en un notebook de Google Colab y gestionando el trabajo en equipo a través de GitHub.\n",
        "\n",
        "**Fecha de Entrega:** Viernes, 29 de agosto, hasta las 11:59 p.m.\n",
        "\n",
        "  *No hacer cambios al enunciado.\n",
        "  *Un solo repositorio por grupo.\n",
        "  *Elijan un líder y repartan responsabilidades.\n",
        "  *Pueden trabajar en Google Colab por separado y al final unir los segmentos.\n",
        "\n",
        "---\n",
        "\n",
        "#### **Fase 1: Configuración del Espacio de Trabajo (Un solo repositorio por grupo)**\n",
        "\n",
        "El grupo debe designar a **un responsable (líder)** para realizar los siguientes pasos:\n",
        "\n",
        "1.  **Crear el Repositorio en GitHub (Líder) :**\n",
        "    * Ve a GitHub y crea un nuevo repositorio con el nombre exacto: `Bici-al-Trabajo-2026`, solo es necesario un repositorio, para ello seleccionen un líder de grupo.\n",
        "    * Asegúrate de marcar la casilla **\"Add a README file\"** para inicializarlo con un archivo de descripción.\n",
        "\n",
        "2.  **Completar el Archivo `README.md`:**\n",
        "    * Dentro del repositorio, haz clic en el archivo `README.md` y luego en el ícono del lápiz para editarlo.\n",
        "    * Copia y pega el enunciado completo del problema (\"La operadora de bicicletas...\") en este archivo.\n",
        "    * Guarda los cambios (haz \"Commit changes\").\n",
        "\n",
        "3.  **Asignar Responsabilidades:**\n",
        "    * Dividan las preguntas o secciones del taller entre los integrantes del grupo. Es crucial que cada miembro sepa exactamente de qué parte es responsable, para ello abran el notebook de referencia para ver todas las preguntas y secciones que deben desarrollar:\n",
        "    * **Recomendación:** Anoten esta división de tareas en el archivo `README.md` para que todos tengan claridad.\n",
        "\n",
        "4.  **Crear el Notebook del Taller:**\n",
        "    * Utilizando el archivo Taller2.ipynb abralo en Colab, nombren el archivo ahora como `Taller_Bici_al_Trabajo.ipynb` y subalo a su repositorio.\n",
        "\n",
        "5.  **Añadir Colaboradores:**\n",
        "    * En la página principal del repositorio, ve a **Settings > Collaborators**.\n",
        "    * Añade a los demás integrantes del grupo utilizando sus nombres de usuario de GitHub. Ellos deberán aceptar la invitación que les llegará por correo o en el simbolo de sobre que esta en la pagína principal de github.\n",
        "    * Protege main (Settings → Branches → Add rule):\n",
        "\n",
        "5.  **Guardar los Cambios en GitHub (¡Paso Clave!):**\n",
        "    * Una vez que hayas completado tu parte, guarda tu progreso directamente en GitHub desde Colab:\n",
        "    * Ve a **Archivo > Guardar una copia en GitHub**.\n",
        "    * Asegúrate de seleccionar el repositorio correcto (`Bici-al-Trabajo-2026`).\n",
        "    * En el **\"Mensaje de commit\"**, describe claramente qué hiciste (ej: \"Desarrollo de la pregunta 3 sobre rutas más comunes\").\n",
        "    * Haz clic en **Aceptar**."
      ],
      "metadata": {
        "id": "UOHv2lkkngii"
      }
    },
    {
      "cell_type": "code",
      "source": [
        "#CARGANDO LOS DATOS\n",
        "# --- Setup reproducible (Colab-friendly) ---\n",
        "!pip -q install ucimlrepo -q\n"
      ],
      "metadata": {
        "id": "Kxi_mRtgonuT"
      },
      "execution_count": null,
      "outputs": []
    },
    {
      "cell_type": "code",
      "source": [
        "import numpy as np, pandas as pd\n",
        "import matplotlib.pyplot as plt\n",
        "from scipy import stats\n",
        "from ucimlrepo import fetch_ucirepo\n",
        "\n",
        "rng = np.random.default_rng(123)\n",
        "\n",
        "# 1. Carga el dataset completo desde UCI\n",
        "bike = fetch_ucirepo(id=275)  # Bike Sharing Dataset\n",
        "\n",
        "# 2. Extrae las características (X) y el objetivo (y)\n",
        "df = bike.data.original.copy()\n",
        "\n",
        "\n",
        "# 3. Limpieza mínima y orden\n",
        "df[\"dteday\"] = pd.to_datetime(df[\"dteday\"])\n",
        "df = df.sort_values(\"dteday\").reset_index(drop=True)\n",
        "\n",
        "print(df.head())\n",
        "\n",
        "# 4. Selección de columnas (incluye casual/registered)\n",
        "df = df[['season','yr','mnth','holiday','weekday','workingday',\n",
        "         'weathersit','temp','hum','windspeed','casual','registered','cnt','dteday']]\n",
        "\n",
        "print(df.head(), df.columns.tolist())"
      ],
      "metadata": {
        "colab": {
          "base_uri": "https://localhost:8080/"
        },
        "id": "8bqLjDejovLi",
        "outputId": "90338c84-b36c-49a2-f5ee-268544767441"
      },
      "execution_count": null,
      "outputs": [
        {
          "output_type": "stream",
          "name": "stdout",
          "text": [
            "   instant     dteday  season  yr  mnth  hr  holiday  weekday  workingday  \\\n",
            "0        1 2011-01-01       1   0     1   0        0        6           0   \n",
            "1       24 2011-01-01       1   0     1  23        0        6           0   \n",
            "2       23 2011-01-01       1   0     1  22        0        6           0   \n",
            "3       22 2011-01-01       1   0     1  21        0        6           0   \n",
            "4       21 2011-01-01       1   0     1  20        0        6           0   \n",
            "\n",
            "   weathersit  temp   atemp   hum  windspeed  casual  registered  cnt  \n",
            "0           1  0.24  0.2879  0.81     0.0000       3          13   16  \n",
            "1           2  0.46  0.4545  0.88     0.2985      15          24   39  \n",
            "2           2  0.40  0.4091  0.94     0.2239      11          17   28  \n",
            "3           2  0.40  0.4091  0.87     0.1940       3          31   34  \n",
            "4           2  0.40  0.4091  0.87     0.2537      11          25   36  \n",
            "   season  yr  mnth  holiday  weekday  workingday  weathersit  temp   hum  \\\n",
            "0       1   0     1        0        6           0           1  0.24  0.81   \n",
            "1       1   0     1        0        6           0           2  0.46  0.88   \n",
            "2       1   0     1        0        6           0           2  0.40  0.94   \n",
            "3       1   0     1        0        6           0           2  0.40  0.87   \n",
            "4       1   0     1        0        6           0           2  0.40  0.87   \n",
            "\n",
            "   windspeed  casual  registered  cnt     dteday  \n",
            "0     0.0000       3          13   16 2011-01-01  \n",
            "1     0.2985      15          24   39 2011-01-01  \n",
            "2     0.2239      11          17   28 2011-01-01  \n",
            "3     0.1940       3          31   34 2011-01-01  \n",
            "4     0.2537      11          25   36 2011-01-01   ['season', 'yr', 'mnth', 'holiday', 'weekday', 'workingday', 'weathersit', 'temp', 'hum', 'windspeed', 'casual', 'registered', 'cnt', 'dteday']\n"
          ]
        }
      ]
    },
    {
      "cell_type": "markdown",
      "source": [
        "## **PREGUNTA 1**\n",
        "¿La distribución de cnt puede tratarse como aproximadamente normal, realiza el histrograma y el gráfico Q-Q?"
      ],
      "metadata": {
        "id": "ceNtHIrFqBZ-"
      }
    },
    {
      "cell_type": "code",
      "source": [
        "# 1. Visualización\n",
        "import matplotlib.pyplot as plt # Import matplotlib.pyplot\n",
        "from statsmodels.api import qqplot # Import qqplot\n",
        "\n",
        "plt.figure(figsize=(14, 5))\n",
        "plt.hist(df['cnt']) # Changed histograma to plt.hist\n",
        "plt.title('Histogram of cnt') # Added a title for clarity\n",
        "plt.xlabel('cnt') # Added an x-label\n",
        "plt.ylabel('Frequency') # Added a y-label\n",
        "plt.show() # Added plt.show() to display the plot\n",
        "qqplot(df['cnt'], line='s') # Added line='s' to show a standard normal line\n",
        "plt.title('Q-Q plot of cnt') # Added a title for clarity\n",
        "plt.show() # Added plt.show() to display the plot"
      ],
      "metadata": {
        "id": "C6c-c6War2VR",
        "colab": {
          "base_uri": "https://localhost:8080/",
          "height": 942
        },
        "outputId": "ab7af1c2-7186-4473-bd87-aaa81efe1672"
      },
      "execution_count": null,
      "outputs": [
        {
          "output_type": "display_data",
          "data": {
            "text/plain": [
              "<Figure size 1400x500 with 1 Axes>"
            ],
            "image/png": "[encoded data removed]"
          },
          "metadata": {}
        },
        {
          "output_type": "display_data",
          "data": {
            "text/plain": [
              "<Figure size 640x480 with 1 Axes>"
            ],
            "image/png": "[encoded data removed]"
          },
          "metadata": {}
        }
      ]
    },
    {
      "cell_type": "markdown",
      "source": [
        "### **Interpretación pregunta 1**"
      ],
      "metadata": {
        "id": "Kg79vS5Or2e5"
      }
    },
    {
      "cell_type": "markdown",
      "source": [
        "La distribución de cnt no parece seguir una forma normal. El histograma presenta una notable asimetría hacia la derecha, con una abundancia de valores bajos y escasez de altos. El gráfico Q-Q respalda la anomalía: los puntos se distancian de la línea recta, especialmente en los extremos, lo que señala que no es normal."
      ],
      "metadata": {
        "id": "XSXfShAmFfKM"
      }
    },
    {
      "cell_type": "markdown",
      "source": [
        "## **PREGUNTA 2**\n",
        "¿Cómo co-varía cnt con temp, hum y windspeed? ¿La relación es lineal o solo monótona?. Ayuda: Calcular la correlación de Pearson y de Spearman."
      ],
      "metadata": {
        "id": "kIPvVb8TqFiJ"
      }
    },
    {
      "cell_type": "code",
      "source": [
        "# Construimos nuevas columnas\n",
        "columnas_relacion = ['cnt', 'temp', 'hum', 'windspeed']\n",
        "pearson_corr = df[columnas_relacion].corr(method='pearson')\n",
        "spearman_corr = df[columnas_relacion].corr(method='spearman')\n",
        "\n",
        "print(\"Pearson Correlation:\")\n",
        "print(pearson_corr)\n",
        "print(\"\\nSpearman Correlation:\")\n",
        "print(spearman_corr)"
      ],
      "metadata": {
        "id": "upt1sX_XtK3Y",
        "colab": {
          "base_uri": "https://localhost:8080/"
        },
        "outputId": "2fa9f092-d892-4910-c940-378543ca91e0"
      },
      "execution_count": null,
      "outputs": [
        {
          "output_type": "stream",
          "name": "stdout",
          "text": [
            "Pearson Correlation:\n",
            "                cnt      temp       hum  windspeed\n",
            "cnt        1.000000  0.404772 -0.322911   0.093234\n",
            "temp       0.404772  1.000000 -0.069881  -0.023125\n",
            "hum       -0.322911 -0.069881  1.000000  -0.290105\n",
            "windspeed  0.093234 -0.023125 -0.290105   1.000000\n",
            "\n",
            "Spearman Correlation:\n",
            "                cnt      temp       hum  windspeed\n",
            "cnt        1.000000  0.423330 -0.359614   0.126629\n",
            "temp       0.423330  1.000000 -0.055408  -0.009719\n",
            "hum       -0.359614 -0.055408  1.000000  -0.293913\n",
            "windspeed  0.126629 -0.009719 -0.293913   1.000000\n"
          ]
        }
      ]
    },
    {
      "cell_type": "markdown",
      "source": [
        "### **Interpretación pregunta 2**"
      ],
      "metadata": {
        "id": "uktMqa_GtfNx"
      }
    },
    {
      "cell_type": "markdown",
      "source": [
        "Al mirar las correlaciones, noto que cnt tiene una relación positiva con la temperatura (≈0. 42), lo que indica que el uso se incrementa al subir la temperatura. En el caso de la humedad, la relación es moderadamente negativa (≈-0. 33), sugiriendo un menor uso cuando la humedad es elevada. En lo que respecta a la velocidad del viento, la correlación es extremadamente baja, casi inexistente. Dado que los valores de Pearson y Spearman son similares, puedo afirmar que la relación es tanto lineal como monotónica, especialmente en relación a la temperatura y la humedad."
      ],
      "metadata": {
        "id": "FbSrYbNNGYFP"
      }
    },
    {
      "cell_type": "markdown",
      "source": [
        "## **PREGUNTA 3**\n",
        "¿Desde qué tamaño muestral el TLC justifica intervalos y pruebas basados en normalidad para la media de cnt?"
      ],
      "metadata": {
        "id": "j_5iIiY8qGEB"
      }
    },
    {
      "cell_type": "markdown",
      "source": [
        "El Teorema del Límite Central (TLC) nos dice que, independientemente de cómo se distribuya la población original, la distribución de las medias muestrales tenderá a ser normal si tomamos una muestra grande. Una regla común es usar un tamaño muestral n ≥ 30. Para la variable cnt, que vimos que tiene una distribución muy asimétrica y alejada de la normal, el TLC es clave para hacer pruebas estadísticas y construir intervalos de confianza asumiendo normalidad. Creo que, si la muestra es mayor de 30, los resultados serán bastante confiables, y aumentar n mejorará la aproximación. Entonces, con unas 30 observaciones ya podemos inferir cosas sobre la media de cnt, pero con muestras más grandes, la aproximación será aún más sólida.\n",
        "\n"
      ],
      "metadata": {
        "id": "9Bck0bhlG5Fg"
      }
    },
    {
      "cell_type": "markdown",
      "source": [
        "### **Respuesta pregunta 3**"
      ],
      "metadata": {
        "id": "XwbJlV7EtnZp"
      }
    },
    {
      "cell_type": "markdown",
      "source": [
        "## **PREGUNTA 4**\n",
        "En días laborales, ¿la media de cnt ≥ 4.500? (plantea y resuelve un test de hipótesis de una muestra)."
      ],
      "metadata": {
        "id": "kRo6gpTCqGT5"
      }
    },
    {
      "cell_type": "code",
      "source": [
        "# Make sure to run cell 8bqLjDejovLi to define the 'df' DataFrame before running this cell.\n",
        "# 1. Filtrar datos de días laborales\n",
        "cnt_laborales = df[df[\"workingday\"] == 1][\"cnt\"]\n",
        "\n",
        "# Valor de referencia para la prueba\n",
        "valor_hipotesis = 4500\n",
        "\n",
        "# Realizar el test de hipotesis de una muestra\n",
        "statistic, p_value = stats.ttest_1samp(cnt_laborales, valor_hipotesis)\n",
        "\n",
        "print(f\"test statistic: {statistic}\")\n",
        "print(f\"p-value: {p_value}\")\n",
        "\n",
        "#regla de decision\n",
        "alpha = 0.05\n",
        "if p_value < alpha:\n",
        " print(\"rechazar la hipotesis nula, porque se tiene evidencia estadistica, la media de la demanda es significarivamente diferente de 4500\")\n",
        "if p_value >= alpha:\n",
        " print(\"No se puede rechazar la hipotesis nula. No hay suficiente evidencia para concluir que la media de cnt sea siguiente\")"
      ],
      "metadata": {
        "id": "8eBSwAlFtkbR",
        "colab": {
          "base_uri": "https://localhost:8080/"
        },
        "outputId": "9aa8f1dd-04c8-45bc-ec86-3243f9052446"
      },
      "execution_count": null,
      "outputs": [
        {
          "output_type": "stream",
          "name": "stdout",
          "text": [
            "test statistic: -2534.333902273014\n",
            "p-value: 0.0\n",
            "rechazar la hipotesis nula, porque se tiene evidencia estadistica, la media de la demanda es significarivamente diferente de 4500\n"
          ]
        }
      ]
    },
    {
      "cell_type": "markdown",
      "source": [
        "### **Interpretación pregunta 4**"
      ],
      "metadata": {
        "id": "2yognyaetk5Y"
      }
    },
    {
      "cell_type": "markdown",
      "source": [
        "Al mirar, para verificar si el promedio de conteo en días hábiles corresponde a 4500, el resultado fue un valor t de gran magnitud y un valor p = 0. 0, inferior al nivel de significancia establecido en 0. 05. En consecuencia, la hipótesis nula debe ser descartada, permitiendo afirmar que el promedio de conteo en días hábiles difiere significativamente de 4500. Dicho de otro modo, la información recopilada aporta pruebas estadísticas sólidas para asegurar que el promedio real no es igual al valor hipotético planteado.\n"
      ],
      "metadata": {
        "id": "ra-OxGzJHc6K"
      }
    },
    {
      "cell_type": "markdown",
      "source": [
        "## **PREGUNTA 5**\n",
        "¿Cuál es un IC bootstrap para la mediana de cnt y cómo cambia tu mensaje si la distribución es sesgada?"
      ],
      "metadata": {
        "id": "o0DO-XYLqURy"
      }
    },
    {
      "cell_type": "code",
      "source": [
        "# Número de remuestreos\n",
        "n_iterations = 5000\n",
        "sample_size = len(df['cnt'])\n",
        "medians = []\n",
        "\n",
        "# remuestreo\n",
        "for _ in range(n_iterations):\n",
        "    bootstrap_sample = df['cnt'].sample(n=sample_size, replace=True)\n",
        "    bootstrap_median = bootstrap_sample.median()\n",
        "    medians.append(bootstrap_median)"
      ],
      "metadata": {
        "id": "h5BrJCl3DsZD"
      },
      "execution_count": null,
      "outputs": []
    }
  ]
}